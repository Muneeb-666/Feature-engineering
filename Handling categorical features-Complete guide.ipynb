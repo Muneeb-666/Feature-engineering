{
 "cells": [
  {
   "cell_type": "code",
   "execution_count": null,
   "id": "da75db9b",
   "metadata": {},
   "outputs": [],
   "source": [
    "import numpy as np \n",
    "import pandas as pd\n",
    "import matplotlib.pyplot as plt\n",
    "import seaborn as sns"
   ]
  },
  {
   "cell_type": "code",
   "execution_count": null,
   "id": "6a3f8091",
   "metadata": {},
   "outputs": [],
   "source": [
    "df=pd.read_csv('kashti.csv')"
   ]
  },
  {
   "cell_type": "code",
   "execution_count": null,
   "id": "6c767848",
   "metadata": {},
   "outputs": [],
   "source": [
    "df.head()"
   ]
  },
  {
   "cell_type": "code",
   "execution_count": null,
   "id": "feab3ac0",
   "metadata": {},
   "outputs": [],
   "source": [
    "df=pd.read_csv('kashti.csv',usecols=['Sex'])\n",
    "df"
   ]
  },
  {
   "cell_type": "markdown",
   "id": "2b8aca1c",
   "metadata": {},
   "source": [
    "# One hot encoding"
   ]
  },
  {
   "cell_type": "code",
   "execution_count": null,
   "id": "dc8b9ebb",
   "metadata": {},
   "outputs": [],
   "source": [
    "pd.get_dummies(df,drop_first=True).head()"
   ]
  },
  {
   "cell_type": "code",
   "execution_count": null,
   "id": "c3fb10f9",
   "metadata": {},
   "outputs": [],
   "source": [
    "df=pd.read_csv('kashti.csv',usecols=['Embarked'])\n",
    "df"
   ]
  },
  {
   "cell_type": "code",
   "execution_count": null,
   "id": "2626d40e",
   "metadata": {},
   "outputs": [],
   "source": [
    "df['Embarked'].unique()"
   ]
  },
  {
   "cell_type": "code",
   "execution_count": null,
   "id": "87306d67",
   "metadata": {},
   "outputs": [],
   "source": [
    "pd.get_dummies(df,drop_first=True)"
   ]
  },
  {
   "cell_type": "markdown",
   "id": "6959d516",
   "metadata": {},
   "source": [
    "# Disadvantage\n",
    "1) It will create more features"
   ]
  },
  {
   "cell_type": "markdown",
   "id": "1906f571",
   "metadata": {},
   "source": [
    "# Handling categories with many features(One hot encoding)"
   ]
  },
  {
   "cell_type": "code",
   "execution_count": null,
   "id": "b818db86",
   "metadata": {},
   "outputs": [],
   "source": [
    "mr=pd.read_csv('mercedes.csv')\n",
    "mr"
   ]
  },
  {
   "cell_type": "code",
   "execution_count": null,
   "id": "3ff15bfa",
   "metadata": {},
   "outputs": [],
   "source": [
    "mr=pd.read_csv('mercedes.csv',usecols=['X0','X1','X2','X3','X4','X5','X6'])"
   ]
  },
  {
   "cell_type": "code",
   "execution_count": null,
   "id": "81056332",
   "metadata": {},
   "outputs": [],
   "source": [
    "mr.head()"
   ]
  },
  {
   "cell_type": "code",
   "execution_count": null,
   "id": "567b9156",
   "metadata": {
    "scrolled": true
   },
   "outputs": [],
   "source": [
    "mr['X0'].value_counts()"
   ]
  },
  {
   "cell_type": "code",
   "execution_count": null,
   "id": "e790b526",
   "metadata": {},
   "outputs": [],
   "source": [
    "for i in mr.columns:\n",
    "    print(len(mr[i].unique()))"
   ]
  },
  {
   "cell_type": "markdown",
   "id": "74074c27",
   "metadata": {},
   "source": [
    "# Ordinal number encoding\n",
    "\n",
    "## 1) Where you can assign ranks"
   ]
  },
  {
   "cell_type": "code",
   "execution_count": null,
   "id": "4ae3677f",
   "metadata": {},
   "outputs": [],
   "source": [
    "import datetime "
   ]
  },
  {
   "cell_type": "code",
   "execution_count": null,
   "id": "a5c6dc63",
   "metadata": {},
   "outputs": [],
   "source": [
    "today_date=datetime.datetime.today()"
   ]
  },
  {
   "cell_type": "code",
   "execution_count": null,
   "id": "6bc6525d",
   "metadata": {},
   "outputs": [],
   "source": [
    "today_date"
   ]
  },
  {
   "cell_type": "code",
   "execution_count": null,
   "id": "0689adf2",
   "metadata": {},
   "outputs": [],
   "source": [
    "days=[today_date-datetime.timedelta(x) for x in range(0,15)]"
   ]
  },
  {
   "cell_type": "code",
   "execution_count": null,
   "id": "4889141f",
   "metadata": {},
   "outputs": [],
   "source": [
    "data=pd.DataFrame(days)\n",
    "data.columns=['Days'] "
   ]
  },
  {
   "cell_type": "code",
   "execution_count": null,
   "id": "93d25a6f",
   "metadata": {},
   "outputs": [],
   "source": [
    "data.head()"
   ]
  },
  {
   "cell_type": "code",
   "execution_count": null,
   "id": "2044072c",
   "metadata": {},
   "outputs": [],
   "source": [
    "data['Weekdays']=data['Days'].dt.day_name()"
   ]
  },
  {
   "cell_type": "code",
   "execution_count": null,
   "id": "1f83205a",
   "metadata": {},
   "outputs": [],
   "source": [
    "data.head()"
   ]
  },
  {
   "cell_type": "code",
   "execution_count": null,
   "id": "8b16512d",
   "metadata": {},
   "outputs": [],
   "source": [
    "#Assign diffrent rankings to catogries\n",
    "\n",
    "data['Weekday_ordinal']=data['Weekdays'].map({'Monday':1,'Tuesday':2,'Wednesday':3,'Thursday':4,'Friday':5,'Saturday':6,'Sunday':7})"
   ]
  },
  {
   "cell_type": "code",
   "execution_count": null,
   "id": "a7272d58",
   "metadata": {},
   "outputs": [],
   "source": [
    "data['Weekday_ordinal']"
   ]
  },
  {
   "cell_type": "markdown",
   "id": "24ca6263",
   "metadata": {},
   "source": [
    "# Count or frequency encoding"
   ]
  },
  {
   "cell_type": "code",
   "execution_count": null,
   "id": "db81a60d",
   "metadata": {},
   "outputs": [],
   "source": [
    "df=pd.read_csv('mercedes.csv')"
   ]
  },
  {
   "cell_type": "code",
   "execution_count": null,
   "id": "47b116e5",
   "metadata": {},
   "outputs": [],
   "source": [
    "df.head()"
   ]
  },
  {
   "cell_type": "code",
   "execution_count": null,
   "id": "6ff6dc4f",
   "metadata": {},
   "outputs": [],
   "source": [
    "train_set=df[['X0','X1','X2','X3','X4','X5','X6','X8']]\n",
    "train_set.head()"
   ]
  },
  {
   "cell_type": "code",
   "execution_count": null,
   "id": "4f35200a",
   "metadata": {},
   "outputs": [],
   "source": [
    "#For loop for value counts of all features\n",
    "for features in train_set:\n",
    "    print(features,':',len(train_set[features].unique()),'Labels')"
   ]
  },
  {
   "cell_type": "code",
   "execution_count": null,
   "id": "39e92408",
   "metadata": {},
   "outputs": [],
   "source": [
    "train_set['X0'].value_counts()"
   ]
  },
  {
   "cell_type": "code",
   "execution_count": null,
   "id": "24ee7d11",
   "metadata": {},
   "outputs": [],
   "source": [
    "train_set['Xo']=train_set['X0'].map(X0_map)\n",
    "train_set.head(10)"
   ]
  },
  {
   "cell_type": "code",
   "execution_count": null,
   "id": "b38b6f91",
   "metadata": {},
   "outputs": [],
   "source": [
    "#Amazing function to convert any list to dictionary\n",
    "\n",
    "X0_map=train_set['X0'].value_counts().to_dict()"
   ]
  },
  {
   "cell_type": "markdown",
   "id": "911b9891",
   "metadata": {},
   "source": [
    "# Advantages\n",
    "1)Easy to use\n",
    "\n",
    "2)Not increasing feature space\n",
    "\n",
    "# Disadvantages\n",
    "\n",
    "1)It will provide same weight if the frquency is same(Which is not good)"
   ]
  },
  {
   "cell_type": "markdown",
   "id": "a6f80180",
   "metadata": {},
   "source": [
    "# --Target guided ordinal Encoding--\n",
    "\n",
    "## 1) Ordering the labels according to the target\n",
    "## 2) Replace the labels by the joint probability of being 1 or 0"
   ]
  },
  {
   "cell_type": "code",
   "execution_count": null,
   "id": "6b53ddcc",
   "metadata": {},
   "outputs": [],
   "source": [
    "titanic=pd.read_csv('kashti.csv',usecols=['Cabin','Survived'])"
   ]
  },
  {
   "cell_type": "code",
   "execution_count": null,
   "id": "dea154a9",
   "metadata": {},
   "outputs": [],
   "source": [
    "titanic.head()"
   ]
  },
  {
   "cell_type": "code",
   "execution_count": null,
   "id": "36b62f4a",
   "metadata": {},
   "outputs": [],
   "source": [
    "titanic['Cabin'].fillna('Missing',inplace=True)"
   ]
  },
  {
   "cell_type": "code",
   "execution_count": null,
   "id": "b17f47d2",
   "metadata": {},
   "outputs": [],
   "source": [
    "titanic.head()"
   ]
  },
  {
   "cell_type": "code",
   "execution_count": null,
   "id": "bd6afd6b",
   "metadata": {
    "scrolled": true
   },
   "outputs": [],
   "source": [
    "titanic['Cabin']=titanic['Cabin'].str[0]"
   ]
  },
  {
   "cell_type": "code",
   "execution_count": null,
   "id": "28ce8aca",
   "metadata": {
    "scrolled": true
   },
   "outputs": [],
   "source": [
    "titanic.head()"
   ]
  },
  {
   "cell_type": "code",
   "execution_count": null,
   "id": "e0754aa8",
   "metadata": {},
   "outputs": [],
   "source": [
    "titanic['Cabin'].unique()"
   ]
  },
  {
   "cell_type": "code",
   "execution_count": null,
   "id": "7e46499d",
   "metadata": {},
   "outputs": [],
   "source": [
    "titanic.groupby(['Cabin'])['Survived'].mean().sort_values().index"
   ]
  },
  {
   "cell_type": "code",
   "execution_count": null,
   "id": "59448145",
   "metadata": {},
   "outputs": [],
   "source": [
    "frequent_labels=titanic.groupby(['Cabin'])['Survived'].mean().sort_values().index\n",
    "frequent_labels"
   ]
  },
  {
   "cell_type": "code",
   "execution_count": null,
   "id": "5c42507f",
   "metadata": {
    "scrolled": true
   },
   "outputs": [],
   "source": [
    "#For loop for assigning ranked labels\n",
    "frequent_labels2={k:i for i,k in enumerate(frequent_labels,1)}\n",
    "frequent_labels2"
   ]
  },
  {
   "cell_type": "code",
   "execution_count": null,
   "id": "7064b803",
   "metadata": {},
   "outputs": [],
   "source": [
    "titanic['frequent_labels']=titanic['Cabin'].map(frequent_labels2)"
   ]
  },
  {
   "cell_type": "code",
   "execution_count": null,
   "id": "5b26e63e",
   "metadata": {},
   "outputs": [],
   "source": [
    "titanic.head()"
   ]
  },
  {
   "cell_type": "markdown",
   "id": "d74df817",
   "metadata": {},
   "source": [
    "# Mean encoding"
   ]
  },
  {
   "cell_type": "code",
   "execution_count": null,
   "id": "d2bd7b79",
   "metadata": {},
   "outputs": [],
   "source": [
    "titanic.head()"
   ]
  },
  {
   "cell_type": "code",
   "execution_count": null,
   "id": "b22400a2",
   "metadata": {},
   "outputs": [],
   "source": [
    "ordinal_labels=titanic.groupby(['Cabin'])['Survived'].mean().to_dict()"
   ]
  },
  {
   "cell_type": "code",
   "execution_count": null,
   "id": "174779a9",
   "metadata": {},
   "outputs": [],
   "source": [
    "titanic['Mean_encoded_Cabin']=titanic['Cabin'].map(ordinal_labels)"
   ]
  },
  {
   "cell_type": "code",
   "execution_count": null,
   "id": "ecf04185",
   "metadata": {},
   "outputs": [],
   "source": [
    "titanic.head()"
   ]
  }
 ],
 "metadata": {
  "kernelspec": {
   "display_name": "Python 3 (ipykernel)",
   "language": "python",
   "name": "python3"
  },
  "language_info": {
   "codemirror_mode": {
    "name": "ipython",
    "version": 3
   },
   "file_extension": ".py",
   "mimetype": "text/x-python",
   "name": "python",
   "nbconvert_exporter": "python",
   "pygments_lexer": "ipython3",
   "version": "3.10.5"
  },
  "varInspector": {
   "cols": {
    "lenName": 16,
    "lenType": 16,
    "lenVar": 40
   },
   "kernels_config": {
    "python": {
     "delete_cmd_postfix": "",
     "delete_cmd_prefix": "del ",
     "library": "var_list.py",
     "varRefreshCmd": "print(var_dic_list())"
    },
    "r": {
     "delete_cmd_postfix": ") ",
     "delete_cmd_prefix": "rm(",
     "library": "var_list.r",
     "varRefreshCmd": "cat(var_dic_list()) "
    }
   },
   "types_to_exclude": [
    "module",
    "function",
    "builtin_function_or_method",
    "instance",
    "_Feature"
   ],
   "window_display": false
  }
 },
 "nbformat": 4,
 "nbformat_minor": 5
}
